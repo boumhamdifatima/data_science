{
 "cells": [
  {
   "cell_type": "markdown",
   "metadata": {},
   "source": [
    "#   How well do jobs and skills pay for Data Analysts?\n",
    "\n",
    "**Methology**\n",
    "\n",
    "1.  Evaluate median salary for top 6 data jobs\n",
    "2.  Find median salary per skill for Data Analysts\n",
    "3.  Visualize for highest paying skills and most demanded skills\n",
    "\n",
    "**Original Exploration**\n",
    "\n",
    "18_Matplotlib_Box_Plots.ipynb\n",
    "19_Exercise_Skill_Pay_Analysis.ipynb\n",
    "\n",
    "##  Import Libraries and Data"
   ]
  },
  {
   "cell_type": "code",
   "execution_count": null,
   "metadata": {},
   "outputs": [],
   "source": []
  }
 ],
 "metadata": {
  "kernelspec": {
   "display_name": "py_course",
   "language": "python",
   "name": "python3"
  },
  "language_info": {
   "name": "python",
   "version": "3.11.11"
  }
 },
 "nbformat": 4,
 "nbformat_minor": 2
}
