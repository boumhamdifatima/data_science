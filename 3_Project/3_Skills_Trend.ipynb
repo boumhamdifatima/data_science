{
 "cells": [
  {
   "cell_type": "markdown",
   "metadata": {},
   "source": [
    "#   How are in-demand skills trending for Data Analysts?\n",
    "\n",
    "**Methology**\n",
    "\n",
    "1.  Aggregate skill counts monthly\n",
    "2.  Re-analyze based on percentage of total jobs\n",
    "3.  Plot the monthly skill demand\n",
    "\n",
    "**Original Exploration**\n",
    "\n",
    "12_Exercise_Trending_Skills.ipynb\n",
    "\n",
    "##  Import Libraries and Data"
   ]
  },
  {
   "cell_type": "code",
   "execution_count": 1,
   "metadata": {},
   "outputs": [],
   "source": [
    "# Importing Libraries\n",
    "import ast\n",
    "import pandas as pd\n",
    "import seaborn as sns\n",
    "from datasets import load_dataset\n",
    "import matplotlib.pyplot as plt  \n",
    "\n",
    "# Loading Data\n",
    "dataset = load_dataset('lukebarousse/data_jobs')\n",
    "df = dataset['train'].to_pandas()\n",
    "\n",
    "# Data Cleanup\n",
    "df['job_posted_date'] = pd.to_datetime(df['job_posted_date'])\n",
    "df['job_skills'] = df['job_skills'].apply(lambda x: ast.literal_eval(x) if pd.notna(x) else x)"
   ]
  },
  {
   "cell_type": "markdown",
   "metadata": {},
   "source": [
    "##  Group the Skills by Month\n",
    "\n",
    "Select only those job postings that are for Data Analysts and the job country is the United States. Then extract the month from each job's posting date to see when jobs are listed. Next, converts a column that lists skills into a usable list format. Finally, it rearranges the data so that each skill from the list gets its own row."
   ]
  },
  {
   "cell_type": "code",
   "execution_count": 2,
   "metadata": {},
   "outputs": [],
   "source": [
    "## Skill count per month for data analysts\n",
    "df_DA_US = df[(df['job_title'] == 'Data Analyst') & (df['job_country'] == 'United States')].copy()\n",
    "\n",
    "df_DA_US['job_posted_month_no'] = df_DA_US['job_posted_date'].dt.month\n",
    "\n",
    "# Explode job_skills column\n",
    "df_DA_US_explode = df_DA_US.explode('job_skills')"
   ]
  },
  {
   "cell_type": "markdown",
   "metadata": {},
   "source": [
    "##  Pivot in Prep for Plotting\n",
    "\n",
    "Create a pivot table from the `df_DA_US_explode`, setting `month` as the index, `job_skills` as the columns, and fills missing entries with zero."
   ]
  },
  {
   "cell_type": "code",
   "execution_count": null,
   "metadata": {},
   "outputs": [],
   "source": []
  },
  {
   "cell_type": "markdown",
   "metadata": {},
   "source": [
    "##  Sort columns by count and change month numbers to names\n",
    "\n",
    "It adds a new row labeled `Total` that sums up counts across all months for each skill. Finally, it reorders the columns based on the total counts, displaying them from highest to lowest, and shows the updated pivot table."
   ]
  },
  {
   "cell_type": "code",
   "execution_count": null,
   "metadata": {},
   "outputs": [],
   "source": []
  },
  {
   "cell_type": "markdown",
   "metadata": {},
   "source": [
    "##  Plot the Monthly Skill Counts\n",
    "\n",
    "Plot a line chart of the top 5 skills for data analysts, indexed by month. It selects the first five columns and plots them."
   ]
  },
  {
   "cell_type": "markdown",
   "metadata": {},
   "source": [
    "This is good but totals can be misleading without context. Percentages clarify relationships within the whole, giving a more accurate comparison.\n",
    "\n",
    "##  Calculate Percentage of Total Jobs\n",
    "\n",
    "Calculates the total number of entries for each month in `df_DA` by grouping the data by `month` and counting the number of occurrences in each group, storing the results in `DA_totals`. This is needed to compute the percentages."
   ]
  },
  {
   "cell_type": "code",
   "execution_count": null,
   "metadata": {},
   "outputs": [],
   "source": []
  },
  {
   "cell_type": "markdown",
   "metadata": {},
   "source": [
    "This code calculates the percentage of each skill's occurrence for each month by dividing the first 12 rows of the `df_DA_pivot` DataFrame, which contains skill counts, by the monthly totals in `DA_totals` and multiplying by 100. The new DataFrame, `df_DA_pivot_percent`, shows skill distributions as percentages of total monthly job entries."
   ]
  },
  {
   "cell_type": "code",
   "execution_count": null,
   "metadata": {},
   "outputs": [],
   "source": []
  },
  {
   "cell_type": "markdown",
   "metadata": {},
   "source": [
    "##  Plot Monthly Skill Demand\n",
    "\n",
    "Creates a line plot for the top five skills of data analysts, shown as percentages of the total job entries per month, using the first 5 columns of the `df_DA_pivot_percent` DataFrame. Also the legend is moved outside of the plot for readability."
   ]
  }
 ],
 "metadata": {
  "kernelspec": {
   "display_name": "py_course",
   "language": "python",
   "name": "python3"
  },
  "language_info": {
   "codemirror_mode": {
    "name": "ipython",
    "version": 3
   },
   "file_extension": ".py",
   "mimetype": "text/x-python",
   "name": "python",
   "nbconvert_exporter": "python",
   "pygments_lexer": "ipython3",
   "version": "3.11.11"
  }
 },
 "nbformat": 4,
 "nbformat_minor": 2
}
